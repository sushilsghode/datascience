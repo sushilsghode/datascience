{
 "cells": [
  {
   "cell_type": "code",
   "execution_count": 1,
   "id": "44d6a968",
   "metadata": {},
   "outputs": [
    {
     "data": {
      "text/plain": [
       "20"
      ]
     },
     "execution_count": 1,
     "metadata": {},
     "output_type": "execute_result"
    }
   ],
   "source": [
    "s=\"This is python class\"\n",
    "len(s)"
   ]
  },
  {
   "cell_type": "code",
   "execution_count": 3,
   "id": "9f72c4a5",
   "metadata": {},
   "outputs": [
    {
     "name": "stdout",
     "output_type": "stream",
     "text": [
      "20\n"
     ]
    }
   ],
   "source": [
    "s=\"This is python class\"\n",
    "count=0\n",
    "for i in s:\n",
    "    count=count+1\n",
    "print(count)"
   ]
  },
  {
   "cell_type": "code",
   "execution_count": 4,
   "id": "b39a4f2d",
   "metadata": {},
   "outputs": [
    {
     "data": {
      "text/plain": [
       "'ssalc nohtyp si sihT'"
      ]
     },
     "execution_count": 4,
     "metadata": {},
     "output_type": "execute_result"
    }
   ],
   "source": [
    "s=\"This is python class\"\n",
    "count=0\n",
    "s[::-1]"
   ]
  },
  {
   "cell_type": "code",
   "execution_count": 5,
   "id": "4f6c00c9",
   "metadata": {},
   "outputs": [
    {
     "name": "stdout",
     "output_type": "stream",
     "text": [
      "s\n",
      "s\n",
      "a\n",
      "l\n",
      "c\n",
      " \n",
      "n\n",
      "o\n",
      "h\n",
      "t\n",
      "y\n",
      "p\n",
      " \n",
      "s\n",
      "i\n",
      " \n",
      "s\n",
      "i\n",
      "h\n",
      "T\n"
     ]
    }
   ],
   "source": [
    "s=\"This is python class\"\n",
    "l1=len(s)\n",
    "for i in range(len(s)-1,-1,-1):\n",
    "    print(s[i])\n"
   ]
  },
  {
   "cell_type": "code",
   "execution_count": 8,
   "id": "bb10c23f",
   "metadata": {},
   "outputs": [
    {
     "name": "stdout",
     "output_type": "stream",
     "text": [
      "s s a l c   n o h t y p   s i   s i h T "
     ]
    }
   ],
   "source": [
    "s=\"This is python class\"\n",
    "i=len(s)-1\n",
    "while (i>=0):\n",
    "    print(s[i],end=\" \")\n",
    "    i=i-1"
   ]
  },
  {
   "cell_type": "code",
   "execution_count": null,
   "id": "5a619e1c",
   "metadata": {},
   "outputs": [],
   "source": [
    "s=\"This is inueron\"\n",
    "v=\"AaEeIiOoUu\"\n",
    "for i in s:\n",
    "    if i in v:\n",
    "        print(\"vowel\",i)\n",
    "    else:\n",
    "        print(\"vowel\",i)"
   ]
  },
  {
   "cell_type": "code",
   "execution_count": 10,
   "id": "8e07f1f3",
   "metadata": {},
   "outputs": [
    {
     "ename": "NameError",
     "evalue": "name 'v' is not defined",
     "output_type": "error",
     "traceback": [
      "\u001b[1;31m---------------------------------------------------------------------------\u001b[0m",
      "\u001b[1;31mNameError\u001b[0m                                 Traceback (most recent call last)",
      "\u001b[1;32mC:\\Users\\SUSHIL~1\\AppData\\Local\\Temp/ipykernel_14204/1429669971.py\u001b[0m in \u001b[0;36m<module>\u001b[1;34m\u001b[0m\n\u001b[1;32m----> 1\u001b[1;33m \u001b[1;32mif\u001b[0m \u001b[0ms\u001b[0m\u001b[1;33m[\u001b[0m\u001b[0mi\u001b[0m\u001b[1;33m]\u001b[0m\u001b[1;33m==\u001b[0m\u001b[0mv\u001b[0m\u001b[1;33m[\u001b[0m\u001b[0mi\u001b[0m\u001b[1;33m]\u001b[0m\u001b[1;33m:\u001b[0m\u001b[1;33m\u001b[0m\u001b[1;33m\u001b[0m\u001b[0m\n\u001b[0m\u001b[0;32m      2\u001b[0m     \u001b[0mprint\u001b[0m\u001b[1;33m(\u001b[0m\u001b[1;34m\"equal\"\u001b[0m\u001b[1;33m)\u001b[0m\u001b[1;33m\u001b[0m\u001b[1;33m\u001b[0m\u001b[0m\n",
      "\u001b[1;31mNameError\u001b[0m: name 'v' is not defined"
     ]
    }
   ],
   "source": [
    "if s[i]==v[i]:\n",
    "    print(\"equal\")"
   ]
  },
  {
   "cell_type": "code",
   "execution_count": 12,
   "id": "0f635caf",
   "metadata": {},
   "outputs": [
    {
     "data": {
      "text/plain": [
       "True"
      ]
     },
     "execution_count": 12,
     "metadata": {},
     "output_type": "execute_result"
    }
   ],
   "source": [
    "\"s\" in \"sus\""
   ]
  },
  {
   "cell_type": "code",
   "execution_count": 14,
   "id": "c4b74099",
   "metadata": {},
   "outputs": [
    {
     "ename": "NameError",
     "evalue": "name 'lenght2' is not defined",
     "output_type": "error",
     "traceback": [
      "\u001b[1;31m---------------------------------------------------------------------------\u001b[0m",
      "\u001b[1;31mNameError\u001b[0m                                 Traceback (most recent call last)",
      "\u001b[1;32mC:\\Users\\SUSHIL~1\\AppData\\Local\\Temp/ipykernel_14204/1623859426.py\u001b[0m in \u001b[0;36m<module>\u001b[1;34m\u001b[0m\n\u001b[0;32m      2\u001b[0m \u001b[0mlengh2\u001b[0m\u001b[1;33m=\u001b[0m\u001b[0mlen\u001b[0m\u001b[1;33m(\u001b[0m\u001b[0mstr1\u001b[0m\u001b[1;33m)\u001b[0m\u001b[1;33m\u001b[0m\u001b[1;33m\u001b[0m\u001b[0m\n\u001b[0;32m      3\u001b[0m \u001b[0mstr2\u001b[0m\u001b[1;33m=\u001b[0m\u001b[1;34m\"\"\u001b[0m\u001b[1;33m\u001b[0m\u001b[1;33m\u001b[0m\u001b[0m\n\u001b[1;32m----> 4\u001b[1;33m \u001b[1;32mfor\u001b[0m \u001b[0mi\u001b[0m \u001b[1;32min\u001b[0m \u001b[0mrange\u001b[0m\u001b[1;33m(\u001b[0m\u001b[0mlenght2\u001b[0m\u001b[1;33m-\u001b[0m\u001b[1;36m1\u001b[0m\u001b[1;33m,\u001b[0m \u001b[1;33m-\u001b[0m\u001b[1;36m1\u001b[0m\u001b[1;33m,\u001b[0m\u001b[1;33m-\u001b[0m\u001b[1;36m1\u001b[0m\u001b[1;33m)\u001b[0m\u001b[1;33m:\u001b[0m\u001b[1;33m\u001b[0m\u001b[1;33m\u001b[0m\u001b[0m\n\u001b[0m\u001b[0;32m      5\u001b[0m     \u001b[0mstr2\u001b[0m\u001b[1;33m.\u001b[0m\u001b[0mappend\u001b[0m\u001b[1;33m[\u001b[0m\u001b[0mi\u001b[0m\u001b[1;33m]\u001b[0m\u001b[1;33m\u001b[0m\u001b[1;33m\u001b[0m\u001b[0m\n\u001b[0;32m      6\u001b[0m \u001b[1;32mif\u001b[0m \u001b[0mstr1\u001b[0m\u001b[1;33m==\u001b[0m\u001b[0mstr2\u001b[0m\u001b[1;33m:\u001b[0m\u001b[1;33m\u001b[0m\u001b[1;33m\u001b[0m\u001b[0m\n",
      "\u001b[1;31mNameError\u001b[0m: name 'lenght2' is not defined"
     ]
    }
   ],
   "source": [
    "str1=\"malayalam\"\n",
    "lengh2=len(str1)\n",
    "str2=\"\"\n",
    "for i in range(lenght2-1, -1,-1):\n",
    "    str2.append[i]\n",
    "if str1==str2:\n",
    "    print(\"pallindrome\")\n",
    "else:    \n",
    "    print(\"No pallindrome\")"
   ]
  },
  {
   "cell_type": "code",
   "execution_count": 17,
   "id": "a5ec1e87",
   "metadata": {},
   "outputs": [
    {
     "name": "stdout",
     "output_type": "stream",
     "text": [
      "enter the stringmalayalam\n",
      "pallindrome\n"
     ]
    }
   ],
   "source": [
    "s= input(\"enter the string\")\n",
    "v= s[::-1]\n",
    "if s==v:\n",
    "    print(\"pallindrome\")\n",
    "else:    \n",
    "    print(\"No pallindrome\")\n",
    "    "
   ]
  },
  {
   "cell_type": "code",
   "execution_count": 19,
   "id": "0297b3c1",
   "metadata": {},
   "outputs": [
    {
     "name": "stdout",
     "output_type": "stream",
     "text": [
      " pallindrome\n",
      " pallindrome\n",
      " pallindrome\n",
      " pallindrome\n",
      " pallindrome\n"
     ]
    }
   ],
   "source": [
    "word=\"eeyee\"\n",
    "for i in range(len(word)):\n",
    "    if word[i]!= word[len(word)-i-1]:\n",
    "        print(\"not pallindrome\")\n",
    "        break        \n",
    "    else:\n",
    "         print(\" pallindrome\")\n",
    "        "
   ]
  },
  {
   "cell_type": "code",
   "execution_count": null,
   "id": "43783970",
   "metadata": {},
   "outputs": [],
   "source": [
    "s= input()\n",
    "f=\"\"\n",
    "i=len(s)-1\n",
    "for i in range()"
   ]
  },
  {
   "cell_type": "code",
   "execution_count": 23,
   "id": "88c080fa",
   "metadata": {},
   "outputs": [
    {
     "name": "stdout",
     "output_type": "stream",
     "text": [
      "eeyee\n",
      "pallindrome\n"
     ]
    }
   ],
   "source": [
    "s=input()\n",
    "if s==s[::-1]:\n",
    "    print(\"pallindrome\")\n",
    "else:\n",
    "    print(\"no\")"
   ]
  },
  {
   "cell_type": "code",
   "execution_count": 25,
   "id": "7e4555d5",
   "metadata": {},
   "outputs": [
    {
     "data": {
      "text/plain": [
       "True"
      ]
     },
     "execution_count": 25,
     "metadata": {},
     "output_type": "execute_result"
    }
   ],
   "source": [
    "d={\"india\":\"IN\",\n",
    "  \"canada\":\"CA\"}\n",
    "\"india\" in d"
   ]
  },
  {
   "cell_type": "code",
   "execution_count": 24,
   "id": "de38b25c",
   "metadata": {},
   "outputs": [
    {
     "ename": "NameError",
     "evalue": "name 'd' is not defined",
     "output_type": "error",
     "traceback": [
      "\u001b[1;31m---------------------------------------------------------------------------\u001b[0m",
      "\u001b[1;31mNameError\u001b[0m                                 Traceback (most recent call last)",
      "\u001b[1;32mC:\\Users\\SUSHIL~1\\AppData\\Local\\Temp/ipykernel_14204/2354235860.py\u001b[0m in \u001b[0;36m<module>\u001b[1;34m\u001b[0m\n\u001b[1;32m----> 1\u001b[1;33m \u001b[1;34m\"india\"\u001b[0m \u001b[1;32min\u001b[0m \u001b[0md\u001b[0m\u001b[1;33m\u001b[0m\u001b[1;33m\u001b[0m\u001b[0m\n\u001b[0m",
      "\u001b[1;31mNameError\u001b[0m: name 'd' is not defined"
     ]
    }
   ],
   "source": []
  },
  {
   "cell_type": "code",
   "execution_count": 35,
   "id": "00842298",
   "metadata": {},
   "outputs": [
    {
     "name": "stdout",
     "output_type": "stream",
     "text": [
      "less than 5\n",
      "greater than 5\n",
      "less than 5\n",
      "greater than 5\n"
     ]
    }
   ],
   "source": [
    "d={\"india\":\"IN\",\n",
    "  \"canada\":\"CA\",\n",
    "  \"Asia\":\"AA\",\n",
    "  \"America\":\"AM\"}\n",
    "\n",
    "d.items()\n",
    "l_great=[]\n",
    "i_smaller=[]\n",
    "for i in d:\n",
    "    if len(i)>5:\n",
    "        print(\"greater than 5\")\n",
    "        l_great.append(i)\n",
    "    else:\n",
    "         print(\"less than 5\")\n",
    "         i_smaller.append(i)\n",
    "    "
   ]
  },
  {
   "cell_type": "code",
   "execution_count": 36,
   "id": "2d1bc59f",
   "metadata": {},
   "outputs": [
    {
     "data": {
      "text/plain": [
       "['canada', 'America']"
      ]
     },
     "execution_count": 36,
     "metadata": {},
     "output_type": "execute_result"
    }
   ],
   "source": [
    "l_great"
   ]
  },
  {
   "cell_type": "code",
   "execution_count": 37,
   "id": "88fb4223",
   "metadata": {},
   "outputs": [
    {
     "data": {
      "text/plain": [
       "['india', 'Asia']"
      ]
     },
     "execution_count": 37,
     "metadata": {},
     "output_type": "execute_result"
    }
   ],
   "source": [
    "i_smaller"
   ]
  },
  {
   "cell_type": "code",
   "execution_count": 52,
   "id": "6fb08648",
   "metadata": {},
   "outputs": [
    {
     "name": "stdout",
     "output_type": "stream",
     "text": [
      "{'a': 10, 'b': 20, 'c': 30}\n",
      "10\n",
      "20\n",
      "30\n",
      "{'e': 101, 'f': 201, 'c': 301}\n",
      "101\n",
      "201\n",
      "301\n"
     ]
    },
    {
     "ename": "TypeError",
     "evalue": "'int' object is not iterable",
     "output_type": "error",
     "traceback": [
      "\u001b[1;31m---------------------------------------------------------------------------\u001b[0m",
      "\u001b[1;31mTypeError\u001b[0m                                 Traceback (most recent call last)",
      "\u001b[1;32mC:\\Users\\SUSHIL~1\\AppData\\Local\\Temp/ipykernel_14204/2048732532.py\u001b[0m in \u001b[0;36m<module>\u001b[1;34m\u001b[0m\n\u001b[0;32m     14\u001b[0m     \u001b[1;32mfor\u001b[0m \u001b[0mj\u001b[0m \u001b[1;32min\u001b[0m \u001b[0mi\u001b[0m\u001b[1;33m.\u001b[0m\u001b[0mvalues\u001b[0m\u001b[1;33m(\u001b[0m\u001b[1;33m)\u001b[0m\u001b[1;33m:\u001b[0m\u001b[1;33m\u001b[0m\u001b[1;33m\u001b[0m\u001b[0m\n\u001b[0;32m     15\u001b[0m         \u001b[0mprint\u001b[0m \u001b[1;33m(\u001b[0m\u001b[0mj\u001b[0m\u001b[1;33m)\u001b[0m\u001b[1;33m\u001b[0m\u001b[1;33m\u001b[0m\u001b[0m\n\u001b[1;32m---> 16\u001b[1;33m \u001b[0mmax\u001b[0m\u001b[1;33m(\u001b[0m\u001b[0mj\u001b[0m\u001b[1;33m)\u001b[0m\u001b[1;33m\u001b[0m\u001b[1;33m\u001b[0m\u001b[0m\n\u001b[0m\u001b[0;32m     17\u001b[0m \u001b[1;33m\u001b[0m\u001b[0m\n",
      "\u001b[1;31mTypeError\u001b[0m: 'int' object is not iterable"
     ]
    }
   ],
   "source": [
    "d_1={\"ineuron\":\n",
    "             {\"a\":10,\n",
    "              \"b\":20,\n",
    "              \"c\":30},\n",
    "     'course': {\"e\":101,\n",
    "              \"f\":201,\n",
    "              \"c\":301}\n",
    "     \n",
    "    }\n",
    "\n",
    "d_1.items()\n",
    "for i in d_1.values():\n",
    "    print(i)\n",
    "    for j in i.values():\n",
    "        print (j)\n",
    "max(j)   \n",
    "   "
   ]
  },
  {
   "cell_type": "code",
   "execution_count": 53,
   "id": "86b68dab",
   "metadata": {},
   "outputs": [
    {
     "data": {
      "text/plain": [
       "dict_items([('ineuron', {'a': 14, 'b': 10, 'c': 4}), ('course', {'d': 45, 'e': 34, 'f': 1}), ('g', 34), ('h', [45, 5, 6, 7, 8, 9]), ('i', (45, 34, 6)), ('k', 'sush')])"
      ]
     },
     "execution_count": 53,
     "metadata": {},
     "output_type": "execute_result"
    }
   ],
   "source": [
    "d1={\"ineuron\":{\"a\":14,\"b\":10,\"c\":4},\"course\":{\"d\":45,\"e\":34,\"f\":1},\n",
    "   \"g\":34,\"h\":[45,5,6,7,8,9],'i':(45,34,6),'k':\"sush\"}\n"
   ]
  },
  {
   "cell_type": "code",
   "execution_count": 54,
   "id": "27c34d12",
   "metadata": {},
   "outputs": [
    {
     "data": {
      "text/plain": [
       "dict_values([{'a': 14, 'b': 10, 'c': 4}, {'d': 45, 'e': 34, 'f': 1}, 34, [45, 5, 6, 7, 8, 9], (45, 34, 6), 'sush'])"
      ]
     },
     "execution_count": 54,
     "metadata": {},
     "output_type": "execute_result"
    }
   ],
   "source": [
    "d1.values()"
   ]
  },
  {
   "cell_type": "code",
   "execution_count": 55,
   "id": "2a49c4b4",
   "metadata": {},
   "outputs": [
    {
     "data": {
      "text/plain": [
       "dict_items([('ineuron', {'a': 14, 'b': 10, 'c': 4}), ('course', {'d': 45, 'e': 34, 'f': 1}), ('g', 34), ('h', [45, 5, 6, 7, 8, 9]), ('i', (45, 34, 6)), ('k', 'sush')])"
      ]
     },
     "execution_count": 55,
     "metadata": {},
     "output_type": "execute_result"
    }
   ],
   "source": [
    "d1.items()"
   ]
  },
  {
   "cell_type": "code",
   "execution_count": 58,
   "id": "0ccac035",
   "metadata": {},
   "outputs": [
    {
     "ename": "AttributeError",
     "evalue": "'str' object has no attribute 'values'",
     "output_type": "error",
     "traceback": [
      "\u001b[1;31m---------------------------------------------------------------------------\u001b[0m",
      "\u001b[1;31mAttributeError\u001b[0m                            Traceback (most recent call last)",
      "\u001b[1;32mC:\\Users\\SUSHIL~1\\AppData\\Local\\Temp/ipykernel_14204/4121876587.py\u001b[0m in \u001b[0;36m<module>\u001b[1;34m\u001b[0m\n\u001b[0;32m      2\u001b[0m    \"g\":34,\"h\":[45,5,6,7,8,9],'i':(45,34,6),'k':\"sush\"}\n\u001b[0;32m      3\u001b[0m \u001b[1;32mfor\u001b[0m \u001b[0mi\u001b[0m \u001b[1;32min\u001b[0m \u001b[0md1\u001b[0m\u001b[1;33m:\u001b[0m\u001b[1;33m\u001b[0m\u001b[1;33m\u001b[0m\u001b[0m\n\u001b[1;32m----> 4\u001b[1;33m     \u001b[0mprint\u001b[0m \u001b[1;33m(\u001b[0m\u001b[0mi\u001b[0m\u001b[1;33m.\u001b[0m\u001b[0mvalues\u001b[0m\u001b[1;33m(\u001b[0m\u001b[1;33m)\u001b[0m\u001b[1;33m)\u001b[0m\u001b[1;33m\u001b[0m\u001b[1;33m\u001b[0m\u001b[0m\n\u001b[0m",
      "\u001b[1;31mAttributeError\u001b[0m: 'str' object has no attribute 'values'"
     ]
    }
   ],
   "source": [
    "d1={\"ineuron\":{\"a\":14,\"b\":10,\"c\":4},\"course\":{\"d\":45,\"e\":34,\"f\":1},\n",
    "   \"g\":34,\"h\":[45,5,6,7,8,9],'i':(45,34,6),'k':\"sush\"}\n",
    "for i in d1:\n",
    "    print (i.values())\n"
   ]
  },
  {
   "cell_type": "code",
   "execution_count": 60,
   "id": "ad9d0b29",
   "metadata": {},
   "outputs": [
    {
     "data": {
      "text/plain": [
       "90"
      ]
     },
     "execution_count": 60,
     "metadata": {},
     "output_type": "execute_result"
    }
   ],
   "source": [
    "t=(2,3,4,55,90)\n",
    "max(t)"
   ]
  },
  {
   "cell_type": "code",
   "execution_count": 66,
   "id": "9311afd8",
   "metadata": {},
   "outputs": [
    {
     "data": {
      "text/plain": [
       "90"
      ]
     },
     "execution_count": 66,
     "metadata": {},
     "output_type": "execute_result"
    }
   ],
   "source": [
    "t1=[2,3,4,55,90,-1]\n",
    "max(t1)\n"
   ]
  },
  {
   "cell_type": "code",
   "execution_count": 67,
   "id": "face3d89",
   "metadata": {},
   "outputs": [
    {
     "data": {
      "text/plain": [
       "-1"
      ]
     },
     "execution_count": 67,
     "metadata": {},
     "output_type": "execute_result"
    }
   ],
   "source": [
    "min(t1)"
   ]
  },
  {
   "cell_type": "code",
   "execution_count": 90,
   "id": "33f5a249",
   "metadata": {},
   "outputs": [
    {
     "ename": "AttributeError",
     "evalue": "'str' object has no attribute 'values'",
     "output_type": "error",
     "traceback": [
      "\u001b[1;31m---------------------------------------------------------------------------\u001b[0m",
      "\u001b[1;31mAttributeError\u001b[0m                            Traceback (most recent call last)",
      "\u001b[1;32mC:\\Users\\SUSHIL~1\\AppData\\Local\\Temp/ipykernel_14204/3598631247.py\u001b[0m in \u001b[0;36m<module>\u001b[1;34m\u001b[0m\n\u001b[0;32m      2\u001b[0m \u001b[0md\u001b[0m\u001b[1;33m=\u001b[0m\u001b[1;33m{\u001b[0m\u001b[1;34m\"d\"\u001b[0m\u001b[1;33m:\u001b[0m\u001b[1;36m10\u001b[0m\u001b[1;33m,\u001b[0m\u001b[1;34m\"g\"\u001b[0m\u001b[1;33m:\u001b[0m\u001b[1;33m-\u001b[0m\u001b[1;36m1\u001b[0m\u001b[1;33m,\u001b[0m\u001b[1;34m\"f\"\u001b[0m\u001b[1;33m:\u001b[0m\u001b[1;36m90\u001b[0m\u001b[1;33m}\u001b[0m\u001b[1;33m\u001b[0m\u001b[1;33m\u001b[0m\u001b[0m\n\u001b[0;32m      3\u001b[0m \u001b[1;32mfor\u001b[0m \u001b[0mi\u001b[0m \u001b[1;32min\u001b[0m \u001b[0md\u001b[0m\u001b[1;33m:\u001b[0m\u001b[1;33m\u001b[0m\u001b[1;33m\u001b[0m\u001b[0m\n\u001b[1;32m----> 4\u001b[1;33m     \u001b[0mlst\u001b[0m\u001b[1;33m.\u001b[0m\u001b[0mappend\u001b[0m\u001b[1;33m(\u001b[0m\u001b[0mi\u001b[0m\u001b[1;33m.\u001b[0m\u001b[0mvalues\u001b[0m\u001b[1;33m(\u001b[0m\u001b[1;33m)\u001b[0m\u001b[1;33m)\u001b[0m\u001b[1;33m\u001b[0m\u001b[1;33m\u001b[0m\u001b[0m\n\u001b[0m\u001b[0;32m      5\u001b[0m     \u001b[0mprint\u001b[0m\u001b[1;33m(\u001b[0m\u001b[0mlst\u001b[0m\u001b[1;33m)\u001b[0m\u001b[1;33m\u001b[0m\u001b[1;33m\u001b[0m\u001b[0m\n\u001b[0;32m      6\u001b[0m \u001b[1;33m\u001b[0m\u001b[0m\n",
      "\u001b[1;31mAttributeError\u001b[0m: 'str' object has no attribute 'values'"
     ]
    }
   ],
   "source": [
    "lst=[]\n",
    "d={\"d\":10,\"g\":-1,\"f\":90}\n",
    "for i in d:\n",
    "    lst.append(i.values())\n",
    "print(lst)\n",
    "    "
   ]
  },
  {
   "cell_type": "code",
   "execution_count": 108,
   "id": "244129f9",
   "metadata": {},
   "outputs": [
    {
     "name": "stdout",
     "output_type": "stream",
     "text": [
      "10\n",
      "-10\n",
      "90\n",
      "[10, -10, 90]\n",
      "max =>  90\n",
      "min =>  -10\n"
     ]
    }
   ],
   "source": [
    "lst=[]\n",
    "d={\"d\":10,\"g\":-10,\"f\":90}\n",
    "d.values()\n",
    "for i in d.values():\n",
    "    print(i)\n",
    "    lst.append(i)\n",
    "print(lst)\n",
    "print(\"max => \",max(lst))\n",
    "print(\"min => \",min(lst))\n",
    "#print(\"avg => \",average(lst))"
   ]
  },
  {
   "cell_type": "code",
   "execution_count": 21,
   "id": "53c1c1c8",
   "metadata": {},
   "outputs": [
    {
     "name": "stdout",
     "output_type": "stream",
     "text": [
      "[10, 10, 90, 2, 3, 1, 2, 3]\n",
      "90\n"
     ]
    }
   ],
   "source": [
    "lst1=[]\n",
    "d={\"d\":10,\"g\":10,\"f\":[90,2,3],'k':(1,2,3),\"c\":\"c+2j\"}\n",
    "for i in d.values():\n",
    "    #print(i)\n",
    "    if type(i)==int:\n",
    "        lst1.append(i)\n",
    "    if type(i)==list:\n",
    "        lst1.extend(i)\n",
    "    if type(i)==tuple:\n",
    "        lst1.extend(i)\n",
    "print(lst1)\n",
    "print(max(lst1))\n"
   ]
  },
  {
   "cell_type": "code",
   "execution_count": 12,
   "id": "4f4bc961",
   "metadata": {},
   "outputs": [
    {
     "data": {
      "text/plain": [
       "True"
      ]
     },
     "execution_count": 12,
     "metadata": {},
     "output_type": "execute_result"
    }
   ],
   "source": [
    "type(i)==list"
   ]
  },
  {
   "cell_type": "code",
   "execution_count": 17,
   "id": "a77f27c9",
   "metadata": {},
   "outputs": [
    {
     "data": {
      "text/plain": [
       "tuple"
      ]
     },
     "execution_count": 17,
     "metadata": {},
     "output_type": "execute_result"
    }
   ],
   "source": [
    "g=(1,2,3)\n",
    "type(g)"
   ]
  },
  {
   "cell_type": "code",
   "execution_count": 23,
   "id": "362645ff",
   "metadata": {},
   "outputs": [
    {
     "data": {
      "text/plain": [
       "str"
      ]
     },
     "execution_count": 23,
     "metadata": {},
     "output_type": "execute_result"
    }
   ],
   "source": [
    "c=\"a+j3\"\n",
    "type(c)"
   ]
  },
  {
   "cell_type": "code",
   "execution_count": 35,
   "id": "5bcd6af1",
   "metadata": {},
   "outputs": [
    {
     "name": "stdout",
     "output_type": "stream",
     "text": [
      "[10, 10, 90, 300]\n",
      "300\n",
      "10\n"
     ]
    }
   ],
   "source": [
    "lst1=[]\n",
    "d={\"d\":10,\"g\":10,\"f\":[90,2,3],'k':(1,2,300,-1),\"c\":\"c+2j\",\"name\":\"Sushil\"}\n",
    "for i in d.values():\n",
    "    #print(i)\n",
    "    if type(i)==int:\n",
    "        lst1.append(i)\n",
    "    if type(i)==list:\n",
    "        lst1.append(max(i))\n",
    "    if type(i)==tuple:\n",
    "        lst1.append(max(i))\n",
    "print(lst1)\n",
    "print(max(lst1))\n",
    "#print(min(lst1)) -\"This is print the min in the final list and not the min from every dictionary\"\n"
   ]
  },
  {
   "cell_type": "code",
   "execution_count": 26,
   "id": "0614ce80",
   "metadata": {},
   "outputs": [
    {
     "name": "stdout",
     "output_type": "stream",
     "text": [
      "90\n"
     ]
    }
   ],
   "source": [
    "lst2=max(lst1)\n",
    "print(lst2)"
   ]
  },
  {
   "cell_type": "code",
   "execution_count": 36,
   "id": "2a78f26a",
   "metadata": {},
   "outputs": [
    {
     "data": {
      "text/plain": [
       "dict_items([('book1', {'bkname': 'c', 'bkpages': 700, 'bkprice': 890}), ('book2', {'bkname': 'c++', 'bkpages': 50, 'bkprice': 880})])"
      ]
     },
     "execution_count": 36,
     "metadata": {},
     "output_type": "execute_result"
    }
   ],
   "source": [
    "lst2=[]\n",
    "bklib={\"book1\":{\"bkname\":\"c\",\"bkpages\":700,\"bkprice\":890},\n",
    "   \"book2\":{\"bkname\":\"c++\",\"bkpages\":50,\"bkprice\":880}}\n",
    "bklib.items()"
   ]
  },
  {
   "cell_type": "code",
   "execution_count": 37,
   "id": "e65ffccb",
   "metadata": {},
   "outputs": [
    {
     "data": {
      "text/plain": [
       "dict_values([{'bkname': 'c', 'bkpages': 700, 'bkprice': 890}, {'bkname': 'c++', 'bkpages': 50, 'bkprice': 880}])"
      ]
     },
     "execution_count": 37,
     "metadata": {},
     "output_type": "execute_result"
    }
   ],
   "source": [
    "bklib.values()"
   ]
  },
  {
   "cell_type": "code",
   "execution_count": 38,
   "id": "590ef858",
   "metadata": {},
   "outputs": [
    {
     "data": {
      "text/plain": [
       "dict_keys(['book1', 'book2'])"
      ]
     },
     "execution_count": 38,
     "metadata": {},
     "output_type": "execute_result"
    }
   ],
   "source": [
    "bklib.keys()"
   ]
  },
  {
   "cell_type": "code",
   "execution_count": 44,
   "id": "447a4b8f",
   "metadata": {},
   "outputs": [
    {
     "data": {
      "text/plain": [
       "{'bkname': 'c', 'bkpages': 700, 'bkprice': 890}"
      ]
     },
     "execution_count": 44,
     "metadata": {},
     "output_type": "execute_result"
    }
   ],
   "source": [
    "bklib[\"book1\"]"
   ]
  },
  {
   "cell_type": "code",
   "execution_count": 46,
   "id": "2c767054",
   "metadata": {},
   "outputs": [
    {
     "data": {
      "text/plain": [
       "700"
      ]
     },
     "execution_count": 46,
     "metadata": {},
     "output_type": "execute_result"
    }
   ],
   "source": [
    "bklib[\"book1\"]['bkpages']"
   ]
  },
  {
   "cell_type": "code",
   "execution_count": 54,
   "id": "5ea67437",
   "metadata": {},
   "outputs": [
    {
     "name": "stdout",
     "output_type": "stream",
     "text": [
      "book1\n",
      "book2\n",
      "{'bkname': 'c', 'bkpages': 700, 'bkprice': 890}\n",
      "{'bkname': 'c++', 'bkpages': 50, 'bkprice': 880}\n"
     ]
    }
   ],
   "source": [
    "bklst=[]\n",
    "bklib={\"book1\":{\"bkname\":\"c\",\"bkpages\":700,\"bkprice\":890},\n",
    "   \"book2\":{\"bkname\":\"c++\",\"bkpages\":50,\"bkprice\":880}}\n",
    "for i in bklib:\n",
    "    print(i) #this will give me the keys in the dictionary\n",
    "for i in bklib.values():\n",
    "    print(i) #this will give me only the values of the keys in the dictionary and not the keys\n"
   ]
  },
  {
   "cell_type": "code",
   "execution_count": 67,
   "id": "90d61ace",
   "metadata": {},
   "outputs": [
    {
     "name": "stdout",
     "output_type": "stream",
     "text": [
      "book1\n",
      "book2\n",
      "book3\n",
      "{'bkname': 'c', 'bkpages': 700, 'bkprice': 890}\n",
      "c 890\n",
      "{'bkname': 'c++', 'bkpages': 50, 'bkprice': 880}\n",
      "c++ 880\n",
      "{'bkname': 'VB', 'bkpages': 50, 'bkprice': 1880}\n",
      "VB 1880\n",
      "1880\n",
      "VB\n"
     ]
    }
   ],
   "source": [
    "mx=0\n",
    "bklib={\"book1\":{\"bkname\":\"c\",\"bkpages\":700,\"bkprice\":890},\n",
    "       \"book2\":{\"bkname\":\"c++\",\"bkpages\":50,\"bkprice\":880},\n",
    "       \"book3\":{\"bkname\":\"VB\",\"bkpages\":50,\"bkprice\":1880}\n",
    "      }\n",
    "for i in bklib:\n",
    "    print(i) #this will give me the keys in the dictionary\n",
    "for i in bklib.values():\n",
    "    print(i) #this will give me only the values of the keys in the dictionary and not the keys\n",
    "    print(i[\"bkname\"],i[\"bkprice\"])\n",
    "    #print(i[0],i[2])\n",
    "    if mx < i[\"bkprice\"]:\n",
    "        mx = i[\"bkprice\"]\n",
    "        book = i[\"bkname\"]       \n",
    "print(mx)\n",
    "print(book)\n",
    "\n",
    "    "
   ]
  },
  {
   "cell_type": "code",
   "execution_count": 1,
   "id": "7718b699",
   "metadata": {},
   "outputs": [
    {
     "name": "stdout",
     "output_type": "stream",
     "text": [
      "book1\n"
     ]
    },
    {
     "ename": "TypeError",
     "evalue": "string indices must be integers",
     "output_type": "error",
     "traceback": [
      "\u001b[1;31m---------------------------------------------------------------------------\u001b[0m",
      "\u001b[1;31mTypeError\u001b[0m                                 Traceback (most recent call last)",
      "\u001b[1;32mC:\\Users\\SUSHIL~1\\AppData\\Local\\Temp/ipykernel_20560/1188190111.py\u001b[0m in \u001b[0;36m<module>\u001b[1;34m\u001b[0m\n\u001b[0;32m      6\u001b[0m \u001b[1;32mfor\u001b[0m \u001b[0mi\u001b[0m \u001b[1;32min\u001b[0m \u001b[0mbklib\u001b[0m\u001b[1;33m:\u001b[0m\u001b[1;33m\u001b[0m\u001b[1;33m\u001b[0m\u001b[0m\n\u001b[0;32m      7\u001b[0m     \u001b[0mprint\u001b[0m\u001b[1;33m(\u001b[0m\u001b[0mi\u001b[0m\u001b[1;33m)\u001b[0m \u001b[1;31m#this will give me the keys in the dictionary\u001b[0m\u001b[1;33m\u001b[0m\u001b[1;33m\u001b[0m\u001b[0m\n\u001b[1;32m----> 8\u001b[1;33m     \u001b[0mprint\u001b[0m\u001b[1;33m(\u001b[0m\u001b[0mi\u001b[0m\u001b[1;33m[\u001b[0m\u001b[1;34m\"bkprice\"\u001b[0m\u001b[1;33m]\u001b[0m\u001b[1;33m)\u001b[0m\u001b[1;33m\u001b[0m\u001b[1;33m\u001b[0m\u001b[0m\n\u001b[0m",
      "\u001b[1;31mTypeError\u001b[0m: string indices must be integers"
     ]
    }
   ],
   "source": [
    "mx=0\n",
    "bklib={\"book1\":{\"bkname\":\"c\",\"bkpages\":700,\"bkprice\":890},\n",
    "       \"book2\":{\"bkname\":\"c++\",\"bkpages\":50,\"bkprice\":880},\n",
    "       \"book3\":{\"bkname\":\"VB\",\"bkpages\":50,\"bkprice\":1880}\n",
    "      }\n",
    "for i in bklib:\n",
    "    print(i) #this will give me the keys in the dictionary\n",
    "    print(i[\"bkprice\"])"
   ]
  },
  {
   "cell_type": "code",
   "execution_count": null,
   "id": "8317b167",
   "metadata": {},
   "outputs": [],
   "source": [
    "import this\n"
   ]
  },
  {
   "cell_type": "code",
   "execution_count": null,
   "id": "56e60be1",
   "metadata": {},
   "outputs": [],
   "source": []
  }
 ],
 "metadata": {
  "kernelspec": {
   "display_name": "Python 3 (ipykernel)",
   "language": "python",
   "name": "python3"
  },
  "language_info": {
   "codemirror_mode": {
    "name": "ipython",
    "version": 3
   },
   "file_extension": ".py",
   "mimetype": "text/x-python",
   "name": "python",
   "nbconvert_exporter": "python",
   "pygments_lexer": "ipython3",
   "version": "3.9.7"
  }
 },
 "nbformat": 4,
 "nbformat_minor": 5
}
